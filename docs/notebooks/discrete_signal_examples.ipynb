{
 "cells": [
  {
   "cell_type": "code",
   "execution_count": 3,
   "id": "20308e74",
   "metadata": {},
   "outputs": [
    {
     "data": {
      "image/png": "[encoded data removed]",
      "text/plain": [
       "<Figure size 576x216 with 1 Axes>"
      ]
     },
     "metadata": {
      "needs_background": "light"
     },
     "output_type": "display_data"
    }
   ],
   "source": [
    "# Ejemplo 1 — Delta y escalón unitario\n",
    "\n",
    "from signalblocks import DiscreteSignalPlotter\n",
    "\n",
    "dsp = DiscreteSignalPlotter(n_range=(-5, 10))\n",
    "\n",
    "# Define: x[n] = delta[n] + delta[n-2] + u[n-3]\n",
    "dsp.add_signal(\"x[n] = delta(n) + delta(n-2) + u(n-3)\")\n",
    "dsp.plot(\"x\")"
   ]
  },
  {
   "cell_type": "code",
   "execution_count": 4,
   "id": "2542307f",
   "metadata": {},
   "outputs": [
    {
     "data": {
      "image/png": "[encoded data removed]",
      "text/plain": [
       "<Figure size 576x216 with 1 Axes>"
      ]
     },
     "metadata": {
      "needs_background": "light"
     },
     "output_type": "display_data"
    }
   ],
   "source": [
    "# Ejemplo 2 — Triángulo y desplazamiento temporal\n",
    "\n",
    "dsp = DiscreteSignalPlotter(n_range=(-10, 10))\n",
    "\n",
    "# Definimos señal triangular desplazada\n",
    "dsp.add_signal(\"x[n] = tri(n-2)\")\n",
    "\n",
    "dsp.plot(\"x\")"
   ]
  },
  {
   "cell_type": "code",
   "execution_count": 6,
   "id": "231e688f",
   "metadata": {},
   "outputs": [
    {
     "ename": "ValueError",
     "evalue": "Expression must have the form: name[n] = ...",
     "output_type": "error",
     "traceback": [
      "\u001b[1;31m---------------------------------------------------------------------------\u001b[0m",
      "\u001b[1;31mValueError\u001b[0m                                Traceback (most recent call last)",
      "Input \u001b[1;32mIn [6]\u001b[0m, in \u001b[0;36m<cell line: 5>\u001b[1;34m()\u001b[0m\n\u001b[0;32m      1\u001b[0m \u001b[38;5;66;03m# Ejemplo 3 — Combinación de señales\u001b[39;00m\n\u001b[0;32m      3\u001b[0m dsp \u001b[38;5;241m=\u001b[39m DiscreteSignalPlotter(n_range\u001b[38;5;241m=\u001b[39m(\u001b[38;5;241m-\u001b[39m\u001b[38;5;241m10\u001b[39m, \u001b[38;5;241m10\u001b[39m))\n\u001b[1;32m----> 5\u001b[0m \u001b[43mdsp\u001b[49m\u001b[38;5;241;43m.\u001b[39;49m\u001b[43madd_signal\u001b[49m\u001b[43m(\u001b[49m\u001b[38;5;124;43m\"\u001b[39;49m\u001b[38;5;124;43mx1[n] = rect(n)\u001b[39;49m\u001b[38;5;124;43m\"\u001b[39;49m\u001b[43m)\u001b[49m\n\u001b[0;32m      6\u001b[0m dsp\u001b[38;5;241m.\u001b[39madd_signal(\u001b[38;5;124m\"\u001b[39m\u001b[38;5;124mx2[n] = delta(n-2)\u001b[39m\u001b[38;5;124m\"\u001b[39m)\n\u001b[0;32m      7\u001b[0m dsp\u001b[38;5;241m.\u001b[39madd_signal(\u001b[38;5;124m\"\u001b[39m\u001b[38;5;124mx3[n] = 2 * x1[n-1] + 0.5 * x2[n+1]\u001b[39m\u001b[38;5;124m\"\u001b[39m)\n",
      "File \u001b[1;32mE:\\OneDrive - UVa\\Docencia\\SignalBlocks\\signalblocks\\DiscreteSignalPlotter.py:70\u001b[0m, in \u001b[0;36mDiscreteSignalPlotter.add_signal\u001b[1;34m(self, expr_str, label)\u001b[0m\n\u001b[0;32m     68\u001b[0m m \u001b[38;5;241m=\u001b[39m re\u001b[38;5;241m.\u001b[39mmatch(\u001b[38;5;124mr\u001b[39m\u001b[38;5;124m\"\u001b[39m\u001b[38;5;124m^\u001b[39m\u001b[38;5;124m\\\u001b[39m\u001b[38;5;124ms*(?P<name>[^\u001b[39m\u001b[38;5;124m\\\u001b[39m\u001b[38;5;124mW\u001b[39m\u001b[38;5;124m\\\u001b[39m\u001b[38;5;124md_]+)\u001b[39m\u001b[38;5;124m\\\u001b[39m\u001b[38;5;124m[\u001b[39m\u001b[38;5;124m\\\u001b[39m\u001b[38;5;124ms*n\u001b[39m\u001b[38;5;124m\\\u001b[39m\u001b[38;5;124ms*\u001b[39m\u001b[38;5;124m\\\u001b[39m\u001b[38;5;124m]\u001b[39m\u001b[38;5;124m\\\u001b[39m\u001b[38;5;124ms*=\u001b[39m\u001b[38;5;124m\\\u001b[39m\u001b[38;5;124ms*(?P<expr>.+)$\u001b[39m\u001b[38;5;124m\"\u001b[39m, expr_str)\n\u001b[0;32m     69\u001b[0m \u001b[38;5;28;01mif\u001b[39;00m \u001b[38;5;129;01mnot\u001b[39;00m m:\n\u001b[1;32m---> 70\u001b[0m     \u001b[38;5;28;01mraise\u001b[39;00m \u001b[38;5;167;01mValueError\u001b[39;00m(\u001b[38;5;124m\"\u001b[39m\u001b[38;5;124mExpression must have the form: name[n] = ...\u001b[39m\u001b[38;5;124m\"\u001b[39m)\n\u001b[0;32m     71\u001b[0m name, expr_body \u001b[38;5;241m=\u001b[39m m\u001b[38;5;241m.\u001b[39mgroup(\u001b[38;5;124m'\u001b[39m\u001b[38;5;124mname\u001b[39m\u001b[38;5;124m'\u001b[39m), m\u001b[38;5;241m.\u001b[39mgroup(\u001b[38;5;124m'\u001b[39m\u001b[38;5;124mexpr\u001b[39m\u001b[38;5;124m'\u001b[39m)\n\u001b[0;32m     73\u001b[0m \u001b[38;5;66;03m# Allow reference to previously defined signals\u001b[39;00m\n",
      "\u001b[1;31mValueError\u001b[0m: Expression must have the form: name[n] = ..."
     ]
    }
   ],
   "source": [
    "# Ejemplo 3 — Combinación de señales\n",
    "\n",
    "dsp = DiscreteSignalPlotter(n_range=(-10, 10))\n",
    "\n",
    "dsp.add_signal(\"x1[n] = rect(n)\")\n",
    "dsp.add_signal(\"x2[n] = delta(n-2)\")\n",
    "dsp.add_signal(\"x3[n] = 2 * x1[n-1] + 0.5 * x2[n+1]\")\n",
    "\n",
    "dsp.plot(\"x3\")"
   ]
  },
  {
   "cell_type": "code",
   "execution_count": null,
   "id": "2f2caffb",
   "metadata": {},
   "outputs": [],
   "source": [
    " # Ejemplo 4 — Señal periódica discreta (próxima extensión)\n",
    "👉 Este aún no está implementado pero sería muy sencillo extender tu clase:\n",
    "\n",
    "dsp = DiscreteSignalPlotter(n_range=(-15, 15))\n",
    "\n",
    "# Simular periodicidad manualmente por ahora\n",
    "dsp.add_signal(\"x[n] = delta(n) + delta(n-5) + delta(n-10)\")\n",
    "dsp.plot(\"x\")\n",
    "\n",
    "En el futuro podrías incluir:\n",
    "\n",
    "dsp.add_signal(\"x[n] = delta(n)\", period=5)"
   ]
  },
  {
   "cell_type": "code",
   "execution_count": 7,
   "id": "35366bd9",
   "metadata": {},
   "outputs": [
    {
     "data": {
      "image/png": "[encoded data removed]",
      "text/plain": [
       "<Figure size 576x216 with 1 Axes>"
      ]
     },
     "metadata": {
      "needs_background": "light"
     },
     "output_type": "display_data"
    }
   ],
   "source": [
    "# Ejemplo 5 — Señal exponencial\n",
    "\n",
    "dsp = DiscreteSignalPlotter(n_range=(-5, 20))\n",
    "\n",
    "# Señal causal exponencial decreciente\n",
    "dsp.add_signal(\"x[n] = (0.8)**n * u(n)\")\n",
    "dsp.plot(\"x\")"
   ]
  },
  {
   "cell_type": "code",
   "execution_count": 8,
   "id": "f82313a5",
   "metadata": {},
   "outputs": [
    {
     "data": {
      "image/png": "[encoded data removed]",
      "text/plain": [
       "<Figure size 576x216 with 1 Axes>"
      ]
     },
     "metadata": {
      "needs_background": "light"
     },
     "output_type": "display_data"
    }
   ],
   "source": [
    "# Ejemplo 6 — Señal seno discreta (frecuencia normalizada)\n",
    "\n",
    "import numpy as np\n",
    "\n",
    "dsp = DiscreteSignalPlotter(n_range=(-10, 10))\n",
    "\n",
    "# Señal sinusoidal discreta\n",
    "w0 = np.pi / 4\n",
    "dsp.add_signal(f\"x[n] = sin({w0}*n)\")\n",
    "dsp.plot(\"x\")"
   ]
  }
 ],
 "metadata": {
  "kernelspec": {
   "display_name": "Python 3",
   "language": "python",
   "name": "python3"
  },
  "language_info": {
   "codemirror_mode": {
    "name": "ipython",
    "version": 3
   },
   "file_extension": ".py",
   "mimetype": "text/x-python",
   "name": "python",
   "nbconvert_exporter": "python",
   "pygments_lexer": "ipython3",
   "version": "3.10.4"
  }
 },
 "nbformat": 4,
 "nbformat_minor": 5
}
