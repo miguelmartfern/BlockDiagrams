{
 "cells": [
  {
   "cell_type": "code",
   "execution_count": null,
   "id": "1ea48c41",
   "metadata": {},
   "outputs": [
    {
     "name": "stdout",
     "output_type": "stream",
     "text": [
      "[6.0, 0.0]\n",
      "[ 4.  -1.5]\n"
     ]
    },
    {
     "data": {
      "image/png": "[encoded data removed]",
      "text/plain": [
       "<Figure size 540x306 with 1 Axes>"
      ]
     },
     "metadata": {
      "needs_background": "light"
     },
     "output_type": "display_data"
    }
   ],
   "source": [
    "from blockdiagrams import DiagramBuilder\n",
    "import numpy as np\n",
    "\n",
    "db = DiagramBuilder(block_length=1, fontsize=16)\n",
    "\n",
    "# Diagram drawing\n",
    "db.add(\"x(t)\", kind=\"input\")\n",
    "db.add(\"h_{aa}(t)\", kind=\"combiner\", operation=\"dif\")\n",
    "feedback_position = db.get_position().feedback_pos\n",
    "db.add(\"u(t)\", kind=\"arrow\")\n",
    "db.add(\"h_1(t)\", kind=\"block\")\n",
    "db.add(\"v(t)\", kind=\"arrow\")\n",
    "db.add(\"h_2(t)\", kind=\"block\")\n",
    "db.add(\"y(t)\", kind=\"output\", length=1)\n",
    "pos1=db.element_positions[db.get_current_element()].feedback_pos\n",
    "print(pos1)\n",
    "\n",
    "# Feedback\n",
    "final_pos = np.array(pos1)+np.array([-2,-1.5])\n",
    "print(final_pos)\n",
    "db.add(\"y(t)\", kind=\"angled_arrow\", position=pos1, final_pos=final_pos, thread='feedback', first_segment='vertical')\n",
    "db.add(\"h_3(t)\", kind=\"block\", orientation='left', thread='feedback', input_text=\"K_3\", input_side='top')\n",
    "pos2=db.get_thread_position('feedback')\n",
    "db.add(\"z(t)\", kind=\"angled_arrow\", position=pos2, final_pos=feedback_position)\n",
    "\n",
    "db.show()"
   ]
  }
 ],
 "metadata": {
  "kernelspec": {
   "display_name": "Python 3",
   "language": "python",
   "name": "python3"
  },
  "language_info": {
   "codemirror_mode": {
    "name": "ipython",
    "version": 3
   },
   "file_extension": ".py",
   "mimetype": "text/x-python",
   "name": "python",
   "nbconvert_exporter": "python",
   "pygments_lexer": "ipython3",
   "version": "3.10.4"
  }
 },
 "nbformat": 4,
 "nbformat_minor": 5
}
