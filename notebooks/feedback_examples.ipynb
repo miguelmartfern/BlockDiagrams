{
 "cells": [
  {
   "cell_type": "code",
   "execution_count": 7,
   "id": "1ea48c41",
   "metadata": {},
   "outputs": [
    {
     "name": "stdout",
     "output_type": "stream",
     "text": [
      "Saved in: feedback_diagram.png\n"
     ]
    },
    {
     "data": {
      "image/png": "[encoded data removed]",
      "text/plain": [
       "<Figure size 540x306 with 1 Axes>"
      ]
     },
     "metadata": {
      "needs_background": "light"
     },
     "output_type": "display_data"
    }
   ],
   "source": [
    "from signalblocks import DiagramBuilder\n",
    "import numpy as np\n",
    "\n",
    "db = DiagramBuilder(block_length=1, fontsize=16)\n",
    "\n",
    "# Diagram drawing\n",
    "db.add(\"x(t)\", kind=\"input\")\n",
    "db.add(\"h_{aa}(t)\", kind=\"combiner\", operation=\"sum\", signs=[\"+\", \"-\"])\n",
    "# Final position of feedback branch\n",
    "feedback_position = db.get_position().feedback_pos\n",
    "db.add(\"u(t)\", kind=\"arrow\")\n",
    "db.add(\"h_1(t)\", kind=\"block\")\n",
    "db.add(\"v(t)\", kind=\"arrow\")\n",
    "db.add(\"h_2(t)\", kind=\"block\")\n",
    "db.add(\"y(t)\", kind=\"output\", length=1)\n",
    "# Initial position for feedback branch\n",
    "pos1=db.element_positions[db.get_current_element()].feedback_pos\n",
    "# Final position of first feedback arrow\n",
    "pos2 = pos1+[-2,-1.5]\n",
    "\n",
    "# Feedback\n",
    "db.add(\"y(t)\", kind=\"angled_arrow\", position=pos1, final_position=pos2, thread='feedback', first_segment='vertical')\n",
    "db.add(\"h_3(t)\", kind=\"block\", orientation='left', thread='feedback', input_text=\"K_3\", input_side='top')\n",
    "# Inital position for second feedback arrow\n",
    "pos3=db.get_thread_position('feedback')\n",
    "# pos3=db.get_position().output_pos\n",
    "db.add(\"z(t)\", kind=\"angled_arrow\", position=pos3, final_position=feedback_position)\n",
    "\n",
    "db.show(savepath = \"feedback_diagram.png\")"
   ]
  }
 ],
 "metadata": {
  "kernelspec": {
   "display_name": "Python 3",
   "language": "python",
   "name": "python3"
  },
  "language_info": {
   "codemirror_mode": {
    "name": "ipython",
    "version": 3
   },
   "file_extension": ".py",
   "mimetype": "text/x-python",
   "name": "python",
   "nbconvert_exporter": "python",
   "pygments_lexer": "ipython3",
   "version": "3.10.4"
  }
 },
 "nbformat": 4,
 "nbformat_minor": 5
}